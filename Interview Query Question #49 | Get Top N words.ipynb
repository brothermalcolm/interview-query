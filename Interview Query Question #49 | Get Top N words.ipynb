{
 "cells": [
  {
   "cell_type": "markdown",
   "metadata": {},
   "source": [
    "## Interview Query Question #49 | Get Top N words\n",
    "\n",
    "1. Given an example paragraph string and an integer N, write a function that returns the top N frequent words in the posting and the frequencies for each word.\n",
    "\n",
    "2. What's the function run-time?"
   ]
  },
  {
   "cell_type": "code",
   "execution_count": 1,
   "metadata": {
    "collapsed": true
   },
   "outputs": [],
   "source": [
    "n = 3\n",
    "posting = \"\"\"\n",
    "Herbal sauna uses the healing properties of herbs in combination with distilled water. \n",
    "The water evaporates and distributes the effect of the herbs throughout the room. \n",
    "A visit to the herbal sauna can cause real miracles, especially for colds. \n",
    "\"\"\"\n",
    "\n",
    "output = [\n",
    "    ('the', 6), \n",
    "    ('herbal', 2), \n",
    "    ('sauna', 2),\n",
    "]"
   ]
  },
  {
   "cell_type": "code",
   "execution_count": 15,
   "metadata": {},
   "outputs": [
    {
     "data": {
      "text/plain": [
       "[(6, 'the'), (2, 'sauna'), (2, 'of')]"
      ]
     },
     "execution_count": 15,
     "metadata": {},
     "output_type": "execute_result"
    }
   ],
   "source": [
    "# idea: use dict as histogram\n",
    "\n",
    "words = {}\n",
    "for word in posting.split():\n",
    "    word = word.lower()\n",
    "    words[word] = words.get(word, 0) + 1\n",
    "    \n",
    "output = []\n",
    "for key, val in words.items():\n",
    "    output.append((val, key))\n",
    "    \n",
    "output.sort(reverse=True)\n",
    "output[:3]"
   ]
  }
 ],
 "metadata": {
  "kernelspec": {
   "display_name": "Python 3",
   "language": "python",
   "name": "python3"
  },
  "language_info": {
   "codemirror_mode": {
    "name": "ipython",
    "version": 3
   },
   "file_extension": ".py",
   "mimetype": "text/x-python",
   "name": "python",
   "nbconvert_exporter": "python",
   "pygments_lexer": "ipython3",
   "version": "3.6.3"
  }
 },
 "nbformat": 4,
 "nbformat_minor": 2
}
