{
 "cells": [
  {
   "cell_type": "markdown",
   "metadata": {},
   "source": [
    "## Interview Query Question #31 | Employee Salaries (ETL Error)"
   ]
  },
  {
   "cell_type": "markdown",
   "metadata": {},
   "source": [
    "Good morning. Here's your sql question for today.. Try out solving the problem first before clicking on the link to the solution.\n",
    "\n",
    "This problem will be free for a week, then it'll go back to being available only in our premium course.\n",
    "\n",
    "This question was asked by: Microsoft  \n",
    "`employees` table  \n",
    "\n",
    "columns\ttypes  \n",
    "id\tint  \n",
    "first_name\tvarchar  \n",
    "last_name\tvarchar  \n",
    "salary\tint  \n",
    "department_id\tint  \n",
    " \n",
    "\n",
    "`departments` table  \n",
    "\n",
    "columns\ttypes  \n",
    "id\tint  \n",
    "name\tvarchar  \n",
    " \n",
    "\n",
    "Let’s say we have two tables representing a company department schema.\n",
    "\n",
    "Due to an ETL error, the `employees` table instead of updating the salaries every year when doing compensation adjustments, did an insert instead. The head of HR still needs the current salary of each employee.\n",
    "\n",
    "Write a query to get the current salary for each employee.\n",
    "\n",
    "Assume no duplicate combination of first and last names. (I.E. No two John Smiths)\n",
    "\n",
    " \n",
    "\n",
    "Need a hint?\n",
    "The first step we need to do would be to remove duplicates and retain the current salary for each user. \n",
    "\n",
    "Given we know there aren't any duplicate first and last name combinations, we can remove duplicates from the employees table by running a GROUP BY on two fields, the first and last name. This allows us to then get a unique combinational value between the two fields. "
   ]
  },
  {
   "cell_type": "code",
   "execution_count": null,
   "metadata": {
    "collapsed": true
   },
   "outputs": [],
   "source": [
    "# idea: window function first_val\n",
    "select id, first_name, last_name, name, first_value(salary) over (partition by first_name, last_name order by id desc) as current_salary\n",
    "from employees e join departments d on e.department_id = d.id\n",
    "order by 2, 3, 1"
   ]
  }
 ],
 "metadata": {
  "kernelspec": {
   "display_name": "Python 3",
   "language": "python",
   "name": "python3"
  },
  "language_info": {
   "codemirror_mode": {
    "name": "ipython",
    "version": 3
   },
   "file_extension": ".py",
   "mimetype": "text/x-python",
   "name": "python",
   "nbconvert_exporter": "python",
   "pygments_lexer": "ipython3",
   "version": "3.6.3"
  }
 },
 "nbformat": 4,
 "nbformat_minor": 2
}
