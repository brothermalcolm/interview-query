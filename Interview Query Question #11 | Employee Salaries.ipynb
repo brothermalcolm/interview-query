{
 "cells": [
  {
   "cell_type": "markdown",
   "metadata": {},
   "source": [
    "## Interview Query Question #11 | Employee Salaries\n",
    "\n",
    "Good morning. Here's your sql question for today.\n",
    "\n",
    "This question was asked by: Microsoft\n",
    "\n",
    "employees table  \n",
    "\n",
    "columns\ttypes  \n",
    "id\tint  \n",
    "first_name\tvarchar  \n",
    "last_name\tvarchar  \n",
    "salary\tint  \n",
    "department_id\tint  \n",
    " \n",
    "\n",
    "departments table  \n",
    "\n",
    "columns\ttypes  \n",
    "id\tint  \n",
    "name\tvarchar   \n",
    "\n",
    "1. Given the tables above, select the top 3 departments by the highest percentage of employees making over 100K in salary and have at least 10 employees.\n",
    "\n",
    "Example output:\n",
    "\n",
    "100K %\tdepartment name\tnumber of employees  \n",
    "90%\tengineering\t25  \n",
    "50%\tmarketing\t50  \n",
    "12%\tsales\t12  \n",
    "\n",
    "2. Let’s say due to an ETL error, the employee table instead of updating the salaries every year when doing compensation adjustments, did an insert instead. The head of HR still needs the current salary of each employee. Write a query to get the current salary for each employee.\n",
    "\n",
    "Assume no duplicate combination of first and last names. (I.E. No two John Smiths)"
   ]
  },
  {
   "cell_type": "code",
   "execution_count": null,
   "metadata": {
    "collapsed": true
   },
   "outputs": [],
   "source": [
    "# idea: 100k+ salary employees, 10+ employee departments, left join, rank window function\n",
    "# 100k% = 100k count / total count * 100\n",
    "\n",
    "with sixfigures as (\n",
    "select employee_id, salary, department_id\n",
    "from employees \n",
    "where salary > 100000)\n",
    ", \n",
    "bigdepts as (\n",
    "select department_id, name, count(employee_id) as num_employees\n",
    "from departments d join employees s on d.id = e.department_id\n",
    "group by 1, 2\n",
    "having num_employees >= 10)\n",
    ",\n",
    "raw as (\n",
    "select name, count(e.employee_id) as num_all, count(s.employee_id) as num_sixfigs \n",
    "from employees e left join sixfigures s on e.employee_id = s.employee_id\n",
    "where name in (select name from bigdepts)\n",
    "group by 1\n",
    ")\n",
    "\n",
    "select (num_sixfigs / num_all) * 100 as \"100k %\", name as department_name, num_sixfigs as number_of_employees\n",
    "from raw"
   ]
  },
  {
   "cell_type": "code",
   "execution_count": null,
   "metadata": {
    "collapsed": true
   },
   "outputs": [],
   "source": [
    "# idea: insert pushes new records into end of table and primary key autoincrements\n",
    "\n",
    "with ranked as (\n",
    "select concat(first_name,  last_name) as name, employee_id, salary, (rownumber() over employee_id partition by name order by employee_id desc) as row\n",
    "from employees)\n",
    "\n",
    "select *\n",
    "from ranked\n",
    "where row = 1"
   ]
  }
 ],
 "metadata": {
  "kernelspec": {
   "display_name": "Python 3",
   "language": "python",
   "name": "python3"
  },
  "language_info": {
   "codemirror_mode": {
    "name": "ipython",
    "version": 3
   },
   "file_extension": ".py",
   "mimetype": "text/x-python",
   "name": "python",
   "nbconvert_exporter": "python",
   "pygments_lexer": "ipython3",
   "version": "3.6.3"
  }
 },
 "nbformat": 4,
 "nbformat_minor": 2
}
