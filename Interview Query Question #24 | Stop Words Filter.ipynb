{
 "cells": [
  {
   "cell_type": "markdown",
   "metadata": {},
   "source": [
    "## Interview Query Question #24 | Stop Words Filter\n",
    "\n",
    "Good morning. Here's your python question for today.\n",
    "\n",
    "This question was asked by: Instacart\n",
    "Given a list of stop words, write a function that takes a string and returns a string stripped of the stop words.\n",
    "\n",
    "Example:"
   ]
  },
  {
   "cell_type": "code",
   "execution_count": 1,
   "metadata": {},
   "outputs": [],
   "source": [
    "stopwords = [\n",
    "    'I', \n",
    "    'as', \n",
    "    'to', \n",
    "    'you', \n",
    "    'your', \n",
    "    'but', \n",
    "    'be', \n",
    "    'a',\n",
    "]\n",
    "\n",
    "paragraph = 'I want to figure out how I can be a better data scientist'\n",
    "\n",
    "stripped_paragraph = 'want figure out how can better data scientist'"
   ]
  },
  {
   "cell_type": "code",
   "execution_count": 2,
   "metadata": {},
   "outputs": [
    {
     "name": "stdout",
     "output_type": "stream",
     "text": [
      "want figure out how can a better data scientist\n"
     ]
    }
   ],
   "source": [
    "words = paragraph.split()\n",
    "\n",
    "for word in words:\n",
    "    if word in stopwords:\n",
    "        words.remove(word)\n",
    "\n",
    "print(*words)"
   ]
  }
 ],
 "metadata": {
  "kernelspec": {
   "display_name": "Python 3",
   "language": "python",
   "name": "python3"
  },
  "language_info": {
   "codemirror_mode": {
    "name": "ipython",
    "version": 3
   },
   "file_extension": ".py",
   "mimetype": "text/x-python",
   "name": "python",
   "nbconvert_exporter": "python",
   "pygments_lexer": "ipython3",
   "version": "3.6.3"
  }
 },
 "nbformat": 4,
 "nbformat_minor": 2
}
