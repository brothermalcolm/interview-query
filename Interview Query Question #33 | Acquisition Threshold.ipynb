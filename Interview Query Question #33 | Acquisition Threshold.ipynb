{
 "cells": [
  {
   "cell_type": "markdown",
   "metadata": {},
   "source": [
    "## Interview Query Question #33 | Acquisition Threshold"
   ]
  },
  {
   "cell_type": "markdown",
   "metadata": {},
   "source": [
    "Good morning. Here's your python question for today.\n",
    "\n",
    "This question was asked by: Capital One\n",
    "Capital One has two levels of customer acquisition strategies for customers that are opening credit cards.\n",
    "\n",
    "For high spending customers, Capital One will give clients a one time bonus of 800 dollars. For everyone else, they give a 100 dollar bonus.\n",
    "\n",
    "Write a function in Python that takes a list of client spends as floats and figures out the threshold to divide the high spending vs low spending customers."
   ]
  },
  {
   "cell_type": "code",
   "execution_count": 1,
   "metadata": {},
   "outputs": [
    {
     "ename": "AttributeError",
     "evalue": "module 'numpy' has no attribute 'stdev'",
     "output_type": "error",
     "traceback": [
      "\u001b[0;31m---------------------------------------------------------------------------\u001b[0m",
      "\u001b[0;31mAttributeError\u001b[0m                            Traceback (most recent call last)",
      "\u001b[0;32m<ipython-input-1-4fd29780fb3f>\u001b[0m in \u001b[0;36m<module>\u001b[0;34m()\u001b[0m\n\u001b[1;32m     26\u001b[0m     \u001b[0;32mreturn\u001b[0m \u001b[0mhigh_spend\u001b[0m\u001b[0;34m,\u001b[0m \u001b[0meveryone_else\u001b[0m\u001b[0;34m\u001b[0m\u001b[0m\n\u001b[1;32m     27\u001b[0m \u001b[0;34m\u001b[0m\u001b[0m\n\u001b[0;32m---> 28\u001b[0;31m \u001b[0mlen\u001b[0m\u001b[0;34m(\u001b[0m\u001b[0mbonus\u001b[0m\u001b[0;34m(\u001b[0m\u001b[0mspends\u001b[0m\u001b[0;34m)\u001b[0m\u001b[0;34m[\u001b[0m\u001b[0;36m0\u001b[0m\u001b[0;34m]\u001b[0m\u001b[0;34m)\u001b[0m\u001b[0;34m,\u001b[0m \u001b[0mlen\u001b[0m\u001b[0;34m(\u001b[0m\u001b[0mbonus\u001b[0m\u001b[0;34m(\u001b[0m\u001b[0mspends\u001b[0m\u001b[0;34m)\u001b[0m\u001b[0;34m[\u001b[0m\u001b[0;36m1\u001b[0m\u001b[0;34m]\u001b[0m\u001b[0;34m)\u001b[0m\u001b[0;34m\u001b[0m\u001b[0m\n\u001b[0m",
      "\u001b[0;32m<ipython-input-1-4fd29780fb3f>\u001b[0m in \u001b[0;36mbonus\u001b[0;34m(spends)\u001b[0m\n\u001b[1;32m     17\u001b[0m     \u001b[0mhigh_spend\u001b[0m \u001b[0;34m=\u001b[0m \u001b[0;34m[\u001b[0m\u001b[0;34m]\u001b[0m\u001b[0;34m\u001b[0m\u001b[0m\n\u001b[1;32m     18\u001b[0m     \u001b[0meveryone_else\u001b[0m \u001b[0;34m=\u001b[0m \u001b[0;34m[\u001b[0m\u001b[0;34m]\u001b[0m\u001b[0;34m\u001b[0m\u001b[0m\n\u001b[0;32m---> 19\u001b[0;31m     \u001b[0mth\u001b[0m \u001b[0;34m=\u001b[0m \u001b[0mthreshold\u001b[0m\u001b[0;34m(\u001b[0m\u001b[0mspends\u001b[0m\u001b[0;34m)\u001b[0m\u001b[0;34m\u001b[0m\u001b[0m\n\u001b[0m\u001b[1;32m     20\u001b[0m     \u001b[0;32mfor\u001b[0m \u001b[0mspend\u001b[0m \u001b[0;32min\u001b[0m \u001b[0mspends\u001b[0m\u001b[0;34m:\u001b[0m\u001b[0;34m\u001b[0m\u001b[0m\n\u001b[1;32m     21\u001b[0m         \u001b[0;32mif\u001b[0m \u001b[0mspend\u001b[0m \u001b[0;34m>\u001b[0m \u001b[0mth\u001b[0m\u001b[0;34m:\u001b[0m\u001b[0;34m\u001b[0m\u001b[0m\n",
      "\u001b[0;32m<ipython-input-1-4fd29780fb3f>\u001b[0m in \u001b[0;36mthreshold\u001b[0;34m(spends)\u001b[0m\n\u001b[1;32m     11\u001b[0m     \u001b[0moutlier\u001b[0m \u001b[0;34m=\u001b[0m \u001b[0mp75\u001b[0m \u001b[0;34m+\u001b[0m \u001b[0;36m1.5\u001b[0m \u001b[0;34m*\u001b[0m \u001b[0;34m(\u001b[0m\u001b[0mp75\u001b[0m \u001b[0;34m-\u001b[0m \u001b[0mp25\u001b[0m\u001b[0;34m)\u001b[0m\u001b[0;34m\u001b[0m\u001b[0m\n\u001b[1;32m     12\u001b[0m     \u001b[0mmu\u001b[0m \u001b[0;34m=\u001b[0m \u001b[0mnp\u001b[0m\u001b[0;34m.\u001b[0m\u001b[0mmean\u001b[0m\u001b[0;34m(\u001b[0m\u001b[0mspends\u001b[0m\u001b[0;34m)\u001b[0m\u001b[0;34m\u001b[0m\u001b[0m\n\u001b[0;32m---> 13\u001b[0;31m     \u001b[0msd\u001b[0m \u001b[0;34m=\u001b[0m \u001b[0mnp\u001b[0m\u001b[0;34m.\u001b[0m\u001b[0mstdev\u001b[0m\u001b[0;34m(\u001b[0m\u001b[0mspends\u001b[0m\u001b[0;34m)\u001b[0m\u001b[0;34m\u001b[0m\u001b[0m\n\u001b[0m\u001b[1;32m     14\u001b[0m     \u001b[0;32mreturn\u001b[0m \u001b[0mp90\u001b[0m\u001b[0;34m\u001b[0m\u001b[0m\n\u001b[1;32m     15\u001b[0m \u001b[0;34m\u001b[0m\u001b[0m\n",
      "\u001b[0;31mAttributeError\u001b[0m: module 'numpy' has no attribute 'stdev'"
     ]
    }
   ],
   "source": [
    "# idea: use P90 as cutoff for high spenders\n",
    "\n",
    "import numpy as np\n",
    "\n",
    "spends = np.random.rand(100) * 1000\n",
    "\n",
    "def threshold(spends):\n",
    "    p90 = np.percentile(spends, 90)\n",
    "    p75 = np.percentile(spends, 75)\n",
    "    p25 = np.percentile(spends, 25)\n",
    "    outlier = p75 + 1.5 * (p75 - p25)\n",
    "    mu = np.mean(spends)\n",
    "    sd = np.stdev(spends)\n",
    "    return p90\n",
    "\n",
    "def bonus(spends):\n",
    "    high_spend = []\n",
    "    everyone_else = []\n",
    "    th = threshold(spends)\n",
    "    for spend in spends:\n",
    "        if spend > th:\n",
    "            high_spend.append(spend)\n",
    "        else:\n",
    "            everyone_else.append(spend)\n",
    "\n",
    "    return high_spend, everyone_else\n",
    "\n",
    "len(bonus(spends)[0]), len(bonus(spends)[1]) "
   ]
  },
  {
   "cell_type": "code",
   "execution_count": null,
   "metadata": {
    "collapsed": true
   },
   "outputs": [],
   "source": []
  }
 ],
 "metadata": {
  "kernelspec": {
   "display_name": "Python 3",
   "language": "python",
   "name": "python3"
  },
  "language_info": {
   "codemirror_mode": {
    "name": "ipython",
    "version": 3
   },
   "file_extension": ".py",
   "mimetype": "text/x-python",
   "name": "python",
   "nbconvert_exporter": "python",
   "pygments_lexer": "ipython3",
   "version": "3.6.3"
  }
 },
 "nbformat": 4,
 "nbformat_minor": 2
}
