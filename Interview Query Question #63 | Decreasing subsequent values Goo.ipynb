{
 "cells": [
  {
   "cell_type": "markdown",
   "metadata": {},
   "source": [
    "# Interview Query Question #63 | Decreasing subsequent values\n",
    "Good morning. Here's your algorithms question for today.\n",
    "\n",
    "This question was asked by: Postmates  \n",
    "Given an array of integer N, return an array of integers so that the subsequent integers in an array get filtered out if they are less than a larger integer at a further index in the array."
   ]
  },
  {
   "cell_type": "code",
   "execution_count": 57,
   "metadata": {
    "collapsed": true
   },
   "outputs": [],
   "source": [
    "# Example 1:\n",
    "\n",
    "n = [20,17,19,18,12,16,10,4,6,3]\n",
    "\n",
    "output = [20,19,18,16,10,6,3]\n",
    "\n",
    "# Example 2:\n",
    "\n",
    "n = [25,30,21,22,14,10,5,26]\n",
    "\n",
    "output = [30,26]"
   ]
  },
  {
   "cell_type": "code",
   "execution_count": 58,
   "metadata": {},
   "outputs": [
    {
     "data": {
      "text/plain": [
       "([], [30, 26])"
      ]
     },
     "execution_count": 58,
     "metadata": {},
     "output_type": "execute_result"
    }
   ],
   "source": [
    "# find the biggest integer in list and its position and filter out any integer at a lower position and repeat\n",
    "\n",
    "count = 0\n",
    "output = []\n",
    "while len(n) > 0:\n",
    "    i_max = max(n)\n",
    "    i_idx = n.index(i_max)\n",
    "    del n[:i_idx]\n",
    "    output.append(n.pop(0))\n",
    "\n",
    "n, output"
   ]
  },
  {
   "cell_type": "code",
   "execution_count": null,
   "metadata": {
    "collapsed": true
   },
   "outputs": [],
   "source": []
  }
 ],
 "metadata": {
  "kernelspec": {
   "display_name": "Python 3",
   "language": "python",
   "name": "python3"
  },
  "language_info": {
   "codemirror_mode": {
    "name": "ipython",
    "version": 3
   },
   "file_extension": ".py",
   "mimetype": "text/x-python",
   "name": "python",
   "nbconvert_exporter": "python",
   "pygments_lexer": "ipython3",
   "version": "3.6.3"
  }
 },
 "nbformat": 4,
 "nbformat_minor": 2
}
