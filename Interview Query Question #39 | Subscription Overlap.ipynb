{
 "cells": [
  {
   "cell_type": "markdown",
   "metadata": {},
   "source": [
    "## Interview Query Question #39 | Subscription Overlap\n",
    "\n",
    "This question was asked by: Twitch  \n",
    "subscriptions table  \n",
    "\n",
    "column\ttype  \n",
    "user_id\tint  \n",
    "start_date\tdate  \n",
    "end_date\tdate  \n",
    " \n",
    "\n",
    "Given a table of product subscriptions with a subscription start date and end date for each user, write a query that returns true or false whether or not each user has a subscription date range that overlaps with any other user.\n",
    "\n",
    "Example:\n",
    "\n",
    "user_id\tstart_date\tend_date  \n",
    "1\t2019-01-01\t2019-01-31  \n",
    "2\t2019-01-15\t2019-01-17  \n",
    "3\t2019-01-29\t2019-02-04  \n",
    "4\t2019-02-05\t2019-02-10  \n",
    " \n",
    "\n",
    "Output  \n",
    "\n",
    "user_id\toverlap  \n",
    "1\tTrue  \n",
    "2\tTrue  \n",
    "3\tTrue  \n",
    "4\tFalse  \n",
    "\n",
    "Need a hint?\n",
    "Let's take a look at each of the conditions first and see how they could be triggered. Given two date ranges, what determines if the subscriptions would overlap?"
   ]
  },
  {
   "cell_type": "code",
   "execution_count": null,
   "metadata": {
    "collapsed": true
   },
   "outputs": [],
   "source": [
    "# idea: (if user_i start between user_j start and end) or (if user_i end between user_j start and end )? cross-join?\n",
    "\n",
    "select subs_i.user_id\n",
    "max(case when (subs_i.start_date between subs_j.start_date and subs_j.end_date) then True\n",
    "when (subs_i.end_date between subs_j.start_date and subs_j.end_date) then True\n",
    "else False\n",
    "end) as overlap\n",
    "from subscriptions subs_i cross join subscriptions subs_j\n",
    "where subs_i.user_id != subs_j.user_id \n",
    "group by 1"
   ]
  }
 ],
 "metadata": {
  "kernelspec": {
   "display_name": "Python 3",
   "language": "python",
   "name": "python3"
  },
  "language_info": {
   "codemirror_mode": {
    "name": "ipython",
    "version": 3
   },
   "file_extension": ".py",
   "mimetype": "text/x-python",
   "name": "python",
   "nbconvert_exporter": "python",
   "pygments_lexer": "ipython3",
   "version": "3.6.3"
  }
 },
 "nbformat": 4,
 "nbformat_minor": 2
}
