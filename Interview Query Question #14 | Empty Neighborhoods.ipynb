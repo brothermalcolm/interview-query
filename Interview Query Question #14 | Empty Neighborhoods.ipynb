{
 "cells": [
  {
   "cell_type": "markdown",
   "metadata": {},
   "source": [
    "## Interview Query Question #14 | Empty Neighborhoods\n",
    "\n",
    "Good morning. Here's your sql question for today.\n",
    "\n",
    "This question was asked by: Oracle  \n",
    "\n",
    "`users` table\n",
    "\n",
    "columns\ttype  \n",
    "id\tint  \n",
    "name\tvarchar  \n",
    "neighborhood_id\tint  \n",
    "joined_date\tdatetime  \n",
    " \n",
    "\n",
    "`neighborhoods` table  \n",
    "\n",
    "columns\ttype  \n",
    "id\tint  \n",
    "name\tvarchar  \n",
    "city_id\tint  \n",
    " \n",
    "\n",
    "Given a users table with information about a user on which neighborhood they live in and a corresponding neighborhoods of all the neighborhoods in the U.S., write a query that returns all of the neighborhoods that have 0 users.  "
   ]
  },
  {
   "cell_type": "code",
   "execution_count": null,
   "metadata": {
    "collapsed": true
   },
   "outputs": [],
   "source": [
    "# idea: count users in each neighborhood and filter for 0 users\n",
    "\n",
    "select n.name as neighborhood, count(u.id) as num_users \n",
    "from users u join neighborhoods n on u.neighborhood_id = n.id\n",
    "group by 1\n",
    "having num_users = 0"
   ]
  }
 ],
 "metadata": {
  "kernelspec": {
   "display_name": "Python 3",
   "language": "python",
   "name": "python3"
  },
  "language_info": {
   "codemirror_mode": {
    "name": "ipython",
    "version": 3
   },
   "file_extension": ".py",
   "mimetype": "text/x-python",
   "name": "python",
   "nbconvert_exporter": "python",
   "pygments_lexer": "ipython3",
   "version": "3.6.3"
  }
 },
 "nbformat": 4,
 "nbformat_minor": 2
}
