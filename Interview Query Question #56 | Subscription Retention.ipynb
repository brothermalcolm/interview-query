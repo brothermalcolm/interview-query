{
 "cells": [
  {
   "cell_type": "markdown",
   "metadata": {},
   "source": [
    "# Interview Query Question #56 | Subscription Retention\n",
    "Good morning. Here's your sql question for today.\n",
    "\n",
    "This question was asked by: Stripe  \n",
    "subscriptions table  \n",
    "\n",
    "column\ttype  \n",
    "user_id\tinteger  \n",
    "start_date\tdatetime  \n",
    "cancel_date\tdatetime  \n",
    "plan_id\tstring  \n",
    "\n",
    "Given a table of subscriptions, write a query to get the monthly retention for each plan_id.\n",
    "\n",
    "Note: Cancel date field is NULL if the user did not cancel.\n",
    "\n",
    "Example Output:  \n",
    "\n",
    "start_month\tnum_month\tplan_id\tretained  \n",
    "2020-01-01\t1\tplan1\t0.90  \n",
    "2020-01-01\t2\tplan2\t0.85  \n",
    "2020-02-01\t1\tplan1\t0.74  \n",
    "2020-02-01\t2\tplan2\t0.65"
   ]
  },
  {
   "cell_type": "code",
   "execution_count": null,
   "metadata": {
    "collapsed": true
   },
   "outputs": [],
   "source": [
    "# idea: count subs per period by plan normalized to cohort size i.e. cohort analysis\n",
    "\n",
    "with cohort_acquisition as (\n",
    "select date_trunc(start_date, 'month') as start_month, plan_id, count(user_id) as num_acquired\n",
    "from subscriptions)\n",
    ",\n",
    "cohort_churn as (\n",
    "select date_trunc(cancel_date, 'month') as start_month, plan_id, count(user_id) as num_churned\n",
    "from subscriptions)\n",
    "\n"
   ]
  }
 ],
 "metadata": {
  "kernelspec": {
   "display_name": "Python 3",
   "language": "python",
   "name": "python3"
  },
  "language_info": {
   "codemirror_mode": {
    "name": "ipython",
    "version": 3
   },
   "file_extension": ".py",
   "mimetype": "text/x-python",
   "name": "python",
   "nbconvert_exporter": "python",
   "pygments_lexer": "ipython3",
   "version": "3.6.3"
  }
 },
 "nbformat": 4,
 "nbformat_minor": 2
}
