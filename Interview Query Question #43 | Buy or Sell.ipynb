{
 "cells": [
  {
   "cell_type": "markdown",
   "metadata": {},
   "source": [
    "## Interview Query Question #43 | Buy or Sell\n",
    "\n",
    "Good morning. Here's your python question for today.\n",
    "\n",
    "This question was asked by: Starbucks\n",
    "1. Given a list of stock prices in ascending order by datetime, write a function that outputs the max profit by buying and selling at a specific interval.\n",
    "\n",
    "Example:"
   ]
  },
  {
   "cell_type": "code",
   "execution_count": 1,
   "metadata": {
    "collapsed": true
   },
   "outputs": [],
   "source": [
    "stock_prices = [10,5,20,32,25,12]"
   ]
  },
  {
   "cell_type": "code",
   "execution_count": null,
   "metadata": {
    "collapsed": true
   },
   "outputs": [],
   "source": [
    "get_max_profit(stock_prices) -> 27"
   ]
  },
  {
   "cell_type": "code",
   "execution_count": 3,
   "metadata": {},
   "outputs": [
    {
     "data": {
      "text/plain": [
       "27"
      ]
     },
     "execution_count": 3,
     "metadata": {},
     "output_type": "execute_result"
    }
   ],
   "source": [
    "def get_max_profit(stock_prices):\n",
    "    max_profit = max(stock_prices) - min(stock_prices)\n",
    "    return max_profit\n",
    "\n",
    "get_max_profit(stock_prices)"
   ]
  },
  {
   "cell_type": "markdown",
   "metadata": {},
   "source": [
    "2. Making it harder, given a list of stock prices and date times in ascending order by datetime, write a function that outputs the profit and start and end dates to buy and sell for max profit.\n",
    "\n",
    "Example:"
   ]
  },
  {
   "cell_type": "code",
   "execution_count": 4,
   "metadata": {
    "collapsed": true
   },
   "outputs": [],
   "source": [
    "stock_prices = [10,5,20,32,25,12]\n",
    "dts = [\n",
    "    '2019-01-01', \n",
    "    '2019-01-02',\n",
    "    '2019-01-03',\n",
    "    '2019-01-04',\n",
    "    '2019-01-05',\n",
    "    '2019-01-06',\n",
    "]\n"
   ]
  },
  {
   "cell_type": "code",
   "execution_count": null,
   "metadata": {
    "collapsed": true
   },
   "outputs": [],
   "source": [
    "get_profit_dates(stock_prices, dts) -> (27, '2019-01-02', '2019-01-04')"
   ]
  },
  {
   "cell_type": "code",
   "execution_count": 6,
   "metadata": {},
   "outputs": [
    {
     "data": {
      "text/plain": [
       "(27, '2019-01-02', '2019-01-04')"
      ]
     },
     "execution_count": 6,
     "metadata": {},
     "output_type": "execute_result"
    }
   ],
   "source": [
    "def get_profit_dates(stock_prices, dts):\n",
    "    max_profit = max(stock_prices) - min(stock_prices)\n",
    "    max_dts = dts[stock_prices.index(max(stock_prices))]\n",
    "    min_dts = dts[stock_prices.index(min(stock_prices))] \n",
    "    return max_profit, min_dts, max_dts\n",
    "\n",
    "get_profit_dates(stock_prices, dts)"
   ]
  }
 ],
 "metadata": {
  "kernelspec": {
   "display_name": "Python 3",
   "language": "python",
   "name": "python3"
  },
  "language_info": {
   "codemirror_mode": {
    "name": "ipython",
    "version": 3
   },
   "file_extension": ".py",
   "mimetype": "text/x-python",
   "name": "python",
   "nbconvert_exporter": "python",
   "pygments_lexer": "ipython3",
   "version": "3.6.3"
  }
 },
 "nbformat": 4,
 "nbformat_minor": 2
}
