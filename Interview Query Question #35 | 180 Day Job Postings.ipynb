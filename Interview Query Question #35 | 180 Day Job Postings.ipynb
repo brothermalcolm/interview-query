{
 "cells": [
  {
   "cell_type": "markdown",
   "metadata": {},
   "source": [
    "## Interview Query Question #35 | 180 Day Job Postings\n",
    "\n",
    "Good morning. Here's your sql question for today.\n",
    "\n",
    "This question was asked by: LinkedIn  \n",
    "`job_postings` table  \n",
    "\n",
    "column\ttype  \n",
    "id\tinteger  \n",
    "job_id\tinteger  \n",
    "user_id\tinteger  \n",
    "date_posted\tdatetime  \n",
    " \n",
    "\n",
    "Write a query to return the breakdown of the percentage of users that have posted their jobs either once or within 180 days of posting the same job again."
   ]
  },
  {
   "cell_type": "code",
   "execution_count": null,
   "metadata": {
    "collapsed": true
   },
   "outputs": [],
   "source": [
    "# posted once\n",
    "with posted_once as (\n",
    "select user_id, job_id, count(*) as num_postings\n",
    "from job_postings \n",
    "group by 1,2\n",
    "having num_postings = 1\n",
    ")\n",
    ",\n",
    "# posted the same job again within 180 of posting \n",
    "posted_180d as (\n",
    "select \n",
    "user_id, \n",
    "job_id, \n",
    "date_posted, \n",
    "lag(date_posted, 1) over (partition by user_id, job_id order by date_posted) as last_posted_at,\n",
    "date_posted - lag(date_posted, 1) over (partition by user_id, job_id order by date_posted) as diff_days\n",
    "from job_postings \n",
    "where date_posted - lag(date_posted, 1) over (partition by user_id, job_id order by date_posted) <= 180\n",
    ")\n",
    ",\n",
    "# percentage of users breakdown\n",
    "num_users as (\n",
    "select count(distinct jp.user_id) as num_all, count(distinct po.user_id) as num_once, count_distinct(p1.user_id) as num_repost\n",
    "from job_postings jp left join posted_once po on jp.user_id = po.user_id left join posted_180d p1 on jp.user_id = p1.user_id)\n",
    "\n",
    "select round(num_once / num_all * 100) as pct_once, round(num_once / num_all * 100) as pct_repost\n",
    "from num_users"
   ]
  }
 ],
 "metadata": {
  "kernelspec": {
   "display_name": "Python 3",
   "language": "python",
   "name": "python3"
  },
  "language_info": {
   "codemirror_mode": {
    "name": "ipython",
    "version": 3
   },
   "file_extension": ".py",
   "mimetype": "text/x-python",
   "name": "python",
   "nbconvert_exporter": "python",
   "pygments_lexer": "ipython3",
   "version": "3.6.3"
  }
 },
 "nbformat": 4,
 "nbformat_minor": 2
}
