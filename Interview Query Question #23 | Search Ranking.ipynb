{
 "cells": [
  {
   "cell_type": "markdown",
   "metadata": {},
   "source": [
    "## Interview Query Question #23 | Search Ranking\n",
    "\n",
    "Good morning. Here's your sql question for today.\n",
    "\n",
    "This question was asked by: Facebook  \n",
    "`search_results`   \n",
    "\n",
    "column\ttype  \n",
    "query\tvarchar  \n",
    "result_id\tinteger  \n",
    "position\tinteger  \n",
    "rating\tinteger \n",
    " \n",
    "\n",
    "You're given a table that represents search results from searches on Facebook. The `query` column is the search term, `position` column represents each position the search result came in, and the rating column represents the human rating of the result from 1 to 5 where 5 is high relevance and 1 is low relevance.\n",
    "\n",
    "Write a query to get the percentage of search queries where all of the ratings for the query results are less than a rating of 3."
   ]
  },
  {
   "cell_type": "code",
   "execution_count": null,
   "metadata": {
    "collapsed": true
   },
   "outputs": [],
   "source": [
    "# idea: left join\n",
    "\n",
    "with low_ratings as (\n",
    "select query as low_query, max(rating) as max_rating\n",
    "from search_results\n",
    "group by 1\n",
    "having min_rating < 3)\n",
    ",\n",
    "all_queries as (\n",
    "select query\n",
    "from search_results\n",
    "group by 1)\n",
    "\n",
    "select count(query) as num_queries, count(low_query) as num_low_ratings, ( count(low_query) / count(query)) as percent_low_ratings\n",
    "from all_queries a left join low_ratings l on a.query = l.low_ratings\n"
   ]
  }
 ],
 "metadata": {
  "kernelspec": {
   "display_name": "Python 3",
   "language": "python",
   "name": "python3"
  },
  "language_info": {
   "codemirror_mode": {
    "name": "ipython",
    "version": 3
   },
   "file_extension": ".py",
   "mimetype": "text/x-python",
   "name": "python",
   "nbconvert_exporter": "python",
   "pygments_lexer": "ipython3",
   "version": "3.6.3"
  }
 },
 "nbformat": 4,
 "nbformat_minor": 2
}
