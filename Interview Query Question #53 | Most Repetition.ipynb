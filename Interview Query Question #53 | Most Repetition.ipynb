{
 "cells": [
  {
   "cell_type": "markdown",
   "metadata": {},
   "source": [
    "# Interview Query Question #53 | Most Repetition\n",
    "\n",
    "Good morning. Here's your algorithms question for today.\n",
    "\n",
    "This question was asked by: Etsy\n",
    "Given a string of unknown length, write an algorithm that figures out which letter occurs most frequently and with the most continuous repetition.\n",
    "\n",
    "Example:"
   ]
  },
  {
   "cell_type": "code",
   "execution_count": null,
   "metadata": {},
   "outputs": [],
   "source": [
    "str1 = 'aabbaaccbbb'\n",
    "max_repeating(str1) -> b"
   ]
  },
  {
   "cell_type": "code",
   "execution_count": 1,
   "metadata": {},
   "outputs": [
    {
     "name": "stdout",
     "output_type": "stream",
     "text": [
      "a a\n",
      "a aa\n",
      "b b\n",
      "b bb\n",
      "a a\n",
      "a aa\n",
      "c c\n",
      "c cc\n",
      "b b\n",
      "b bb\n",
      "b bbb\n",
      "{'a': 4, 'b': 5, 'c': 2} {'aa': 2, 'bb': 1, 'cc': 1, 'bbb': 1}\n"
     ]
    },
    {
     "data": {
      "text/plain": [
       "'b'"
      ]
     },
     "execution_count": 1,
     "metadata": {},
     "output_type": "execute_result"
    }
   ],
   "source": [
    "# idea: dictionary histogram\n",
    "str1 = 'aabbaaccbbb'\n",
    "\n",
    "def max_repeating(str1):\n",
    "    freq = {}\n",
    "    reps = {}\n",
    "    seq = None\n",
    "    length = len(str1)\n",
    "    i = 0\n",
    "    for l in str1:\n",
    "        freq[l] = freq.get(l, 0) + 1\n",
    "        i += 1\n",
    "        if seq is None:\n",
    "            seq = l\n",
    "        elif i == length:\n",
    "            seq += l\n",
    "            reps[seq] = reps.get(seq, 0) + 1\n",
    "        elif seq[-1] is l:\n",
    "            seq += l\n",
    "        else:\n",
    "            reps[seq] = reps.get(seq, 0) + 1\n",
    "            seq = l \n",
    "        print(l, seq)\n",
    "\n",
    "    print(freq, reps)\n",
    "\n",
    "    counts = []\n",
    "    for k, v in freq.items():\n",
    "        counts.append((v, k))\n",
    "\n",
    "    counts.sort(reverse=True)\n",
    "    ans = counts[0][1]\n",
    "    return ans\n",
    "\n",
    "max_repeating(str1)"
   ]
  },
  {
   "cell_type": "code",
   "execution_count": null,
   "metadata": {
    "collapsed": true
   },
   "outputs": [],
   "source": []
  }
 ],
 "metadata": {
  "kernelspec": {
   "display_name": "Python 3",
   "language": "python",
   "name": "python3"
  },
  "language_info": {
   "codemirror_mode": {
    "name": "ipython",
    "version": 3
   },
   "file_extension": ".py",
   "mimetype": "text/x-python",
   "name": "python",
   "nbconvert_exporter": "python",
   "pygments_lexer": "ipython3",
   "version": "3.6.3"
  }
 },
 "nbformat": 4,
 "nbformat_minor": 2
}
