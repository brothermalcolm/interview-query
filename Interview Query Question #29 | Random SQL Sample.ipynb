{
 "cells": [
  {
   "cell_type": "markdown",
   "metadata": {},
   "source": [
    "## Interview Query Question #29 | Random SQL Sample\n",
    "\n",
    "Good morning. Here's your sql question for today.. Try out solving the problem first before clicking on the link to the solution.\n",
    "\n",
    "This problem will be free for a week, then it'll go back to being available only in our premium course.\n",
    "\n",
    "This question was asked by: Microsoft  \n",
    "`big_table`\n",
    "\n",
    "column\ttype  \n",
    "id\tint  \n",
    "name\tvarchar  \n",
    " \n",
    "\n",
    "Let's say we have a table with an id and name field. The table holds over 100 million rows and we want to sample a random row in the table without throttling the database.\n",
    "\n",
    "Write a query to randomly sample a row from this table.\n",
    "\n",
    "Need a hint?\n",
    "We know that the RAND() function actually returns a floating-point between 0 and 1. So if we were to run this function:\n",
    "\n",
    "SELECT RAND()\n",
    "we would get a random decimal point to some Nth degree of precision. RAND() essentially allows us to seed a random value. How can we use this to select a random row quickly?"
   ]
  },
  {
   "cell_type": "code",
   "execution_count": null,
   "metadata": {
    "collapsed": true
   },
   "outputs": [],
   "source": [
    "select * \n",
    "from big_table\n",
    "order by rand()\n",
    "limit 1"
   ]
  }
 ],
 "metadata": {
  "kernelspec": {
   "display_name": "Python 3",
   "language": "python",
   "name": "python3"
  },
  "language_info": {
   "codemirror_mode": {
    "name": "ipython",
    "version": 3
   },
   "file_extension": ".py",
   "mimetype": "text/x-python",
   "name": "python",
   "nbconvert_exporter": "python",
   "pygments_lexer": "ipython3",
   "version": "3.6.3"
  }
 },
 "nbformat": 4,
 "nbformat_minor": 2
}
