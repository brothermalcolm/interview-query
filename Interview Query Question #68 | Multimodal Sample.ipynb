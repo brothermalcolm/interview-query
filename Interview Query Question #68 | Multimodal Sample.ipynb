{
 "cells": [
  {
   "cell_type": "markdown",
   "metadata": {},
   "source": [
    "# Interview Query Question #68 | Multimodal Sample\n",
    "Good morning. Here's your python question for today.\n",
    "\n",
    "This question was asked by: Stitch Fix  \n",
    "Write a function for sampling from a multimodal distribution. \n",
    "\n",
    "Inputs are keys (i.e. green, red, blue), weights (i.e. 2, 3, 5.5), and the number of samples drawn from the distribution. The output should return the keys of the samples. "
   ]
  },
  {
   "cell_type": "code",
   "execution_count": 45,
   "metadata": {
    "collapsed": true
   },
   "outputs": [],
   "source": [
    "# Example Input:\n",
    "\n",
    "keys = ['green', 'red', 'blue']\n",
    "weights = [1, 10, 2]\n",
    "n = 5"
   ]
  },
  {
   "cell_type": "code",
   "execution_count": null,
   "metadata": {
    "collapsed": true
   },
   "outputs": [],
   "source": [
    "sample_multimodal(keys, weights, n)\n",
    " \n",
    "\n",
    "# Output\n",
    "\n",
    "['blue', 'red', 'red', 'green', 'red']"
   ]
  },
  {
   "cell_type": "code",
   "execution_count": 61,
   "metadata": {},
   "outputs": [
    {
     "data": {
      "text/plain": [
       "(['red', 'blue', 'green', 'red', 'red'], [])"
      ]
     },
     "execution_count": 61,
     "metadata": {},
     "output_type": "execute_result"
    }
   ],
   "source": [
    "import numpy as np\n",
    "\n",
    "def sample_multimodal(keys, weights, n):\n",
    "    sum_weights = sum(weights)\n",
    "    idx = None\n",
    "    output = []\n",
    "    indices = []\n",
    "    for i in range(n):\n",
    "        rand = np.random.rand()\n",
    "        x = rand * sum_weights\n",
    "        cum_weight = 0\n",
    "        for weight in weights:\n",
    "            cum_weight += weight\n",
    "            if x < cum_weight:\n",
    "                idx = weights.index(weight)\n",
    "                key = keys[idx]\n",
    "                output.append(key)\n",
    "                break\n",
    "\n",
    "    return output, indices\n",
    "\n",
    "sample_multimodal(keys, weights, n)"
   ]
  },
  {
   "cell_type": "code",
   "execution_count": null,
   "metadata": {
    "collapsed": true
   },
   "outputs": [],
   "source": []
  }
 ],
 "metadata": {
  "kernelspec": {
   "display_name": "Python 3",
   "language": "python",
   "name": "python3"
  },
  "language_info": {
   "codemirror_mode": {
    "name": "ipython",
    "version": 3
   },
   "file_extension": ".py",
   "mimetype": "text/x-python",
   "name": "python",
   "nbconvert_exporter": "python",
   "pygments_lexer": "ipython3",
   "version": "3.6.3"
  }
 },
 "nbformat": 4,
 "nbformat_minor": 2
}
