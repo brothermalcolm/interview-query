{
 "cells": [
  {
   "cell_type": "markdown",
   "metadata": {},
   "source": [
    "## Interview Query Question #58 | Longest Streak Users\n",
    "Good morning. Here's your sql question for today.\n",
    "\n",
    "This question was asked by: Facebook  \n",
    "events table  \n",
    "\n",
    "column\ttype  \n",
    "user_id\tinteger  \n",
    "created_at\tdatetime  \n",
    "url\tstring  \n",
    " \n",
    "\n",
    "Given a table with event logs, find the top 100 users with the longest continuous streak of visiting the platform as of yesterday. "
   ]
  },
  {
   "cell_type": "code",
   "execution_count": null,
   "metadata": {
    "collapsed": true
   },
   "outputs": [],
   "source": [
    "# idea: streak is when all datediff between sorted dates are 1\n",
    "with dates as (\n",
    "select e1.user_id, e1.created_at, lag(e2.created_at, 1) over (partition by e1.user_id order by e1.created_at desc)\n",
    "from events e1 join events e2 on e1.user_id = e2.user_id and e1.created_at = e2.created_at and e1.url = e2.url\n",
    ")\n",
    ", date_diffs as (\n",
    "select *, date_diff(created_at, created_at, 'day') as date_diff\n",
    "from dates\n",
    ")\n",
    ", streaks as (\n",
    "select *, case date_diff when 1 then True else False end as is_streak \n",
    "from date_diffs\n",
    ")\n",
    " "
   ]
  }
 ],
 "metadata": {
  "kernelspec": {
   "display_name": "Python 3",
   "language": "python",
   "name": "python3"
  },
  "language_info": {
   "codemirror_mode": {
    "name": "ipython",
    "version": 3
   },
   "file_extension": ".py",
   "mimetype": "text/x-python",
   "name": "python",
   "nbconvert_exporter": "python",
   "pygments_lexer": "ipython3",
   "version": "3.6.3"
  }
 },
 "nbformat": 4,
 "nbformat_minor": 2
}
