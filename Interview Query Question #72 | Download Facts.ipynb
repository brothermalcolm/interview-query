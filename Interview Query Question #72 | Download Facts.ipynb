{
 "cells": [
  {
   "cell_type": "markdown",
   "metadata": {},
   "source": [
    "Interview Query Question #72 | Download Facts\n",
    "Good morning. Here's your sql question for today.\n",
    "\n",
    "This question was asked by: Microsoft\n",
    "user_dimension table  \n",
    "\n",
    "column\ttype  \n",
    "user_id\tint  \n",
    "account_id\tint  \n",
    "\n",
    "account_dimension table  \n",
    "\n",
    "column\ttype  \n",
    "account_id\tint  \n",
    "paying_customer\tboolean  \n",
    "\n",
    "download_facts table  \n",
    "\n",
    "column\ttype  \n",
    "date\tdate  \n",
    "user_id\tint  \n",
    "downloads\tint  \n",
    "Given three tables: user_dimension, account_dimension, and download_facts, find the average number of downloads for free vs paying customers broken out by day.\n",
    "\n",
    "Note: The account_dimension table maps users to multiple accounts where they could be a paying customer or not.\n",
    "\n",
    " \n",
    "\n",
    "Check your solution with other data scientists\n",
    "Forwarded this problem by a friend? Subscribe here\n",
    "Interview coming up? Check out our full data science interview prep course\n"
   ]
  },
  {
   "cell_type": "code",
   "execution_count": null,
   "metadata": {
    "collapsed": true
   },
   "outputs": [],
   "source": [
    "select date, paying_customer, sum(downloads) / count(account_id) as avg_downloads\n",
    "from download_facts df left join user_dimension ud on df.user_id = ud.user_id left join account_dimension ad on ud.user_id = ad.user_id\n",
    "group by 1,2"
   ]
  }
 ],
 "metadata": {
  "kernelspec": {
   "display_name": "Python 3",
   "language": "python",
   "name": "python3"
  },
  "language_info": {
   "codemirror_mode": {
    "name": "ipython",
    "version": 3
   },
   "file_extension": ".py",
   "mimetype": "text/x-python",
   "name": "python",
   "nbconvert_exporter": "python",
   "pygments_lexer": "ipython3",
   "version": "3.6.3"
  }
 },
 "nbformat": 4,
 "nbformat_minor": 2
}
