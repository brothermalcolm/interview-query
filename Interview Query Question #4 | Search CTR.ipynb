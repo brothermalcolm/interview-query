{
 "cells": [
  {
   "cell_type": "markdown",
   "metadata": {},
   "source": [
    "## Interview Query Question #4 | Search CTR\n",
    "\n",
    "Good morning. Here's your sql question for today.\n",
    "This question was asked by: Facebook\n",
    "\n",
    "`search_results` table\n",
    "\n",
    "column\ttype  \n",
    "query\tvarchar  \n",
    "result_id\tinteger  \n",
    "position\tinteger  \n",
    "rating\tinteger  \n",
    " \n",
    "\n",
    "`search_events` table\n",
    "\n",
    "column\ttype  \n",
    "search_id\tinteger  \n",
    "query\tvarchar  \n",
    "has_clicked\tboolean  \n",
    "\n",
    "You're given a table that represents search results from searches on Facebook. The `query` column is the search term, `position` column represents each position the search result came in, and the `rating` column represents the human rating from 1 to 5 where 5 is high relevance and 1 is low relevance.\n",
    "\n",
    "Each row in the `search_events` table represents a single search with the `has_clicked` column representing if a user clicked on a result or not. We have a hypothesis that the CTR is dependent on the search result rating.\n",
    "\n",
    "Write a query to return data to support or disprove this hypothesis."
   ]
  },
  {
   "cell_type": "code",
   "execution_count": null,
   "metadata": {
    "collapsed": true
   },
   "outputs": [],
   "source": [
    "# idea: CTR is dependent on the search result rating\n",
    "\n",
    "# CTR = clicks / views\n",
    "# search result rating - assume first result clicked\n",
    "# correlate CTR vs search result rating\n",
    "with data as (\n",
    "select rating, count(search_id) as views, count(case has_clicked when true then 1 else 0) as clicks\n",
    "from search_results r join search_events e on r.query = e.query\n",
    "where position = 1\n",
    "group by 1)\n",
    "\n",
    "select rating, (clicks / views) as ctr \n",
    "from data\n"
   ]
  }
 ],
 "metadata": {
  "kernelspec": {
   "display_name": "Python 3",
   "language": "python",
   "name": "python3"
  },
  "language_info": {
   "codemirror_mode": {
    "name": "ipython",
    "version": 3
   },
   "file_extension": ".py",
   "mimetype": "text/x-python",
   "name": "python",
   "nbconvert_exporter": "python",
   "pygments_lexer": "ipython3",
   "version": "3.6.3"
  }
 },
 "nbformat": 4,
 "nbformat_minor": 2
}
