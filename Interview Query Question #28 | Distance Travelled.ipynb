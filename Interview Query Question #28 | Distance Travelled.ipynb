{
 "cells": [
  {
   "cell_type": "markdown",
   "metadata": {},
   "source": [
    "## Interview Query Question #28 | Distance Travelled\n",
    "\n",
    "Good morning. Here's your sql question for today.\n",
    "\n",
    "This question was asked by: Uber  \n",
    "\n",
    "users table\n",
    "\n",
    "Column\tType  \n",
    "id\tinteger  \n",
    "name\tstring  \n",
    " \n",
    "\n",
    "rides table  \n",
    "\n",
    "Column\tType  \n",
    "id\tinteger  \n",
    "user_id\tinteger  \n",
    "distance\tfloat  \n",
    " \n",
    "\n",
    "Write a query to report the distance travelled by each user in descending order."
   ]
  },
  {
   "cell_type": "code",
   "execution_count": null,
   "metadata": {
    "collapsed": true
   },
   "outputs": [],
   "source": [
    "select user_id, name, sum(distance) as total_distance\n",
    "from rides r join users u on r.user_id = u.id\n",
    "group by 1, 2\n",
    "order by 3 desc"
   ]
  }
 ],
 "metadata": {
  "kernelspec": {
   "display_name": "Python 3",
   "language": "python",
   "name": "python3"
  },
  "language_info": {
   "codemirror_mode": {
    "name": "ipython",
    "version": 3
   },
   "file_extension": ".py",
   "mimetype": "text/x-python",
   "name": "python",
   "nbconvert_exporter": "python",
   "pygments_lexer": "ipython3",
   "version": "3.6.3"
  }
 },
 "nbformat": 4,
 "nbformat_minor": 2
}
