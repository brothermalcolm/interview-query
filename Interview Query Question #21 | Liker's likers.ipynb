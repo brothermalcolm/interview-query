{
 "cells": [
  {
   "cell_type": "markdown",
   "metadata": {},
   "source": [
    "## Interview Query Question #21 | Liker's likers"
   ]
  },
  {
   "cell_type": "markdown",
   "metadata": {},
   "source": [
    "Good morning. Here's your sql question for today.\n",
    "\n",
    "This question was asked by: Calm  \n",
    "`likes` table  \n",
    "\n",
    "column\ttype  \n",
    "user_id\tint  \n",
    "created_at\tdatetime  \n",
    "liker_id\tint  \n",
    " \n",
    "\n",
    "A dating websites schema is represented by a table of people that like other people. The table has three columns. One column is the user_id, another column is the liker_id which is the user_id of the user doing the liking, and the last column is the date time that the like occured.\n",
    "\n",
    "Write a query to count the number of liker's likers (the users that like the likers) if the liker has one.\n",
    "\n",
    "Example:\n",
    "\n",
    "Input:\n",
    "\n",
    "user\tliker  \n",
    "A\tB  \n",
    "B\tC  \n",
    "B\tD  \n",
    "D\tE  \n",
    " \n",
    "\n",
    "Output:\n",
    "\n",
    "user\tcount  \n",
    "B\t2  \n",
    "D\t1\n",
    " "
   ]
  },
  {
   "cell_type": "code",
   "execution_count": null,
   "metadata": {
    "collapsed": true
   },
   "outputs": [],
   "source": [
    "## idea: aggregate\n",
    "\n",
    "select user_id, count(liker_id) as count\n",
    "from likes\n",
    "group by 1"
   ]
  }
 ],
 "metadata": {
  "kernelspec": {
   "display_name": "Python 3",
   "language": "python",
   "name": "python3"
  },
  "language_info": {
   "codemirror_mode": {
    "name": "ipython",
    "version": 3
   },
   "file_extension": ".py",
   "mimetype": "text/x-python",
   "name": "python",
   "nbconvert_exporter": "python",
   "pygments_lexer": "ipython3",
   "version": "3.6.3"
  }
 },
 "nbformat": 4,
 "nbformat_minor": 2
}
