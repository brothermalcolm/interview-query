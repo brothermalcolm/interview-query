{
 "cells": [
  {
   "cell_type": "markdown",
   "metadata": {},
   "source": [
    "## Interview Query Question #50 | Closest SAT Scores\n",
    "\n",
    "Good morning. Here's your sql question for today.\n",
    "\n",
    "This question was asked by: Dropbox\n",
    "\n",
    "Given a table of students and their SAT test scores, write a query to return the two students with the closest test scores with the score difference.\n",
    "\n",
    "Assume a random pick if there are multiple students with the same score difference.\n",
    "\n",
    "scores table  \n",
    "\n",
    "column\ttype  \n",
    "id\tinteger  \n",
    "student\tvarchar  \n",
    "score\tinteger  \n",
    " \n",
    "\n",
    "Example:\n",
    "\n",
    "Input\n",
    "\n",
    "id\tstudent\tscore  \n",
    "1\tJack\t1700  \n",
    "2\tAlice\t2010  \n",
    "3\tMiles\t2200  \n",
    "4\tScott\t2100  \n",
    "\n",
    "Output\n",
    "\n",
    "one_student\tother_student\tscore_diff  \n",
    "Alice\tScott\t90"
   ]
  },
  {
   "cell_type": "code",
   "execution_count": null,
   "metadata": {
    "collapsed": true
   },
   "outputs": [],
   "source": [
    "# idea: cross join\n",
    "\n",
    "select s1.student as one_student, s2.student as other_student, abs(s1.score - s2.score) as score_diff\n",
    "from scores s1 cross join scores s2\n",
    "order by 3 desc\n",
    "limit 1"
   ]
  }
 ],
 "metadata": {
  "kernelspec": {
   "display_name": "Python 3",
   "language": "python",
   "name": "python3"
  },
  "language_info": {
   "codemirror_mode": {
    "name": "ipython",
    "version": 3
   },
   "file_extension": ".py",
   "mimetype": "text/x-python",
   "name": "python",
   "nbconvert_exporter": "python",
   "pygments_lexer": "ipython3",
   "version": "3.6.3"
  }
 },
 "nbformat": 4,
 "nbformat_minor": 2
}
