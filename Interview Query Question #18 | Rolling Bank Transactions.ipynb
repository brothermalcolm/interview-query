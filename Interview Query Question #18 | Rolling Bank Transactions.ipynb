{
 "cells": [
  {
   "cell_type": "markdown",
   "metadata": {},
   "source": [
    "## Interview Query Question #18 | Rolling Bank Transactions\n",
    "\n",
    "Good morning. Here's your sql question for today.\n",
    "\n",
    "This question was asked by: Dropbox  \n",
    "`bank_transactions` table\n",
    "\n",
    "column\ttype  \n",
    "user_id\tint  \n",
    "created_at\tdatetime  \n",
    "transaction_value\tfloat  \n",
    "We're given a table bank transactions with three columns, user_id, a deposit or withdrawal value, and created_at time for each transaction.\n",
    "\n",
    "Write a query to get the total three day rolling average for deposits by day.\n",
    "\n",
    "Example:\n",
    "\n",
    "Input\n",
    "\n",
    "user_id\tcreated_at\ttransaction_value  \n",
    "1\t2019-01-01\t10  \n",
    "2\t2019-01-01\t20  \n",
    "1\t2019-01-02\t-10  \n",
    "1\t2019-01-02\t50  \n",
    "2\t2019-01-03\t5  \n",
    "3\t2019-01-03\t5  \n",
    "2\t2019-01-04\t10  \n",
    "1\t2019-01-04\t10  \n",
    "Output\n",
    "\n",
    "dt\trolling_three_day  \n",
    "2019-01-01\t30.00  \n",
    "2019-01-02\t40.00  \n",
    "2019-01-03\t30.00  \n",
    "2019-01-04\t23.33  "
   ]
  },
  {
   "cell_type": "code",
   "execution_count": null,
   "metadata": {
    "collapsed": true
   },
   "outputs": [],
   "source": [
    "# idea: window function\n",
    "\n",
    "with bank_transactions_daily as (\n",
    "select created_at, sum(transaction_value) as sum_transaction_value\n",
    "from bank_transactions\n",
    "group by 1\n",
    ")\n",
    "\n",
    "select \n",
    "created_at as dt, \n",
    "avg(sum_transaction_value) over (order by created_at rows between 2 preceding and 0 following) as rolling_three_day\n",
    "from bank_transactions_daily\n",
    "order by 1 asc"
   ]
  }
 ],
 "metadata": {
  "kernelspec": {
   "display_name": "Python 3",
   "language": "python",
   "name": "python3"
  },
  "language_info": {
   "codemirror_mode": {
    "name": "ipython",
    "version": 3
   },
   "file_extension": ".py",
   "mimetype": "text/x-python",
   "name": "python",
   "nbconvert_exporter": "python",
   "pygments_lexer": "ipython3",
   "version": "3.6.3"
  }
 },
 "nbformat": 4,
 "nbformat_minor": 2
}
