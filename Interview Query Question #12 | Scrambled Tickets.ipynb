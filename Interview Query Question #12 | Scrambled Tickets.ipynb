{
 "cells": [
  {
   "cell_type": "markdown",
   "metadata": {},
   "source": [
    "## Interview Query Question #12 | Scrambled Tickets\n",
    "\n",
    "Good morning. Here's your algorithms question for today.\n",
    "\n",
    "This question was asked by: Walmart\n",
    "Given a list of scrambled airplane tickets, each with a starting city and end city, reconstruct the path of the trip so the trip tickets are in order.\n",
    "\n",
    "Example:"
   ]
  },
  {
   "cell_type": "code",
   "execution_count": 1,
   "metadata": {
    "collapsed": true
   },
   "outputs": [],
   "source": [
    "input_cities = [\n",
    "    ['Chennai', 'Bangalore'], \n",
    "    ['Bombay', 'Delhi'], \n",
    "    ['Goa', 'Chennai'], \n",
    "    ['Delhi', 'Goa'], \n",
    "    ['Bangalore', 'Beijing']\n",
    "]\n",
    "output = [\n",
    "    ['Bombay', 'Delhi'], \n",
    "    ['Delhi', 'Goa'], \n",
    "    ['Goa', 'Chennai'], \n",
    "    ['Chennai', 'Bangalore'], \n",
    "    ['Bangalore', 'Beijing'],\n",
    "]"
   ]
  },
  {
   "cell_type": "code",
   "execution_count": null,
   "metadata": {},
   "outputs": [],
   "source": [
    "# ideas: dominoes match list_ij to list_jk ...\n",
    "\n",
    "output = []\n",
    "city_f = input_cities[0][1]\n",
    "\n",
    "for cities in input_cities:\n",
    "    city_i = cities[0]\n",
    "    city_f = cities[1]\n",
    "    if city_f == city_i:\n",
    "        output.append(cities)\n",
    "    else:\n",
    "        continue\n",
    "\n",
    "output"
   ]
  },
  {
   "cell_type": "code",
   "execution_count": null,
   "metadata": {},
   "outputs": [],
   "source": [
    "# idea: compare adjacent pairs and shift pair down until match is found ...\n",
    "\n",
    "city_f = input_cities[0][1]\n",
    "output = [input_cities[0]]\n",
    "length = len(input_cities)\n",
    "\n",
    "while len(output) < length:\n",
    "    for cities in input_cities:\n",
    "        city_i = cities[0]\n",
    "        if city_f == city_i:\n",
    "            output.append(cities)\n",
    "            city_f = cities[1]\n",
    "        elif \n",
    "            \n",
    "output"
   ]
  },
  {
   "cell_type": "code",
   "execution_count": null,
   "metadata": {
    "collapsed": true
   },
   "outputs": [],
   "source": [
    "input_cities = [\n",
    "\t[..., ...]\n",
    "];\n",
    "output = [\n",
    "];\n",
    "\n",
    "\n",
    "function dominoMatch(remaining_items, played_items) {\n",
    "\t// a match where we have no remaining is just the played ones.\n",
    "\tif (remaining_items.length == 0)\n",
    "\t\treturn played_items;\n",
    "\t// try to find a match for the most leftward of our played items.\n",
    "\tvar left_domino = played_items[0][0];\n",
    "\t// try to find a match for the most rightward of our played items.\n",
    "\tvar right_domino = played_items[played_items.length - 1][1];\n",
    "\t// go through all the possible remaining items looking for these two matches.\n",
    "\tforeach (input_items as input_item) {\n",
    "\t\tif (input_item[1] == left_domino) {\n",
    "\t\t\tplayed_items.unshift(input_item);\t\t// add to front of list\n",
    "\t\t\tdelete input_item from remaining_items;\t\t// delete out of the list\n",
    "\t\t\treturn dominoMatch(remaining_items, played_items);\n",
    "\t\t}\n",
    "\t\tif (input_item[0] == right_domino) {\n",
    "\t\t\tplayed_items.pop(input_item);\t\t\t// add to the back of our list\n",
    "\t\t\tdelete input_item from remaining_items;\t\t// delete out of the list\n",
    "\t\t\treturn dominoMatch(remaining_items, played_items);\n",
    "\t\t}\n",
    "\t}\n",
    "}\n",
    "\n",
    "dominoMatch(input_cities, output);"
   ]
  },
  {
   "cell_type": "code",
   "execution_count": 4,
   "metadata": {},
   "outputs": [
    {
     "data": {
      "text/plain": [
       "[['Bombay', 'Delhi'],\n",
       " ['Delhi', 'Goa'],\n",
       " ['Goa', 'Chennai'],\n",
       " ['Chennai', 'Bangalore'],\n",
       " ['Bangalore', 'Beijing']]"
      ]
     },
     "execution_count": 4,
     "metadata": {},
     "output_type": "execute_result"
    }
   ],
   "source": [
    "length = len(input_cities)\n",
    "output = []\n",
    "output.append(input_cities[0])\n",
    "\n",
    "while len(output) < length:\n",
    "    most_left = output[0][0]\n",
    "    most_right = output[-1][1]\n",
    "    for cities in input_cities:\n",
    "        if cities[1] == most_left:\n",
    "            output.insert(0, cities)\n",
    "            input_cities.remove(cities)\n",
    "        if cities[0] == most_right:\n",
    "            output.append(cities)\n",
    "            input_cities.remove(cities)\n",
    "            \n",
    "output"
   ]
  },
  {
   "cell_type": "code",
   "execution_count": null,
   "metadata": {
    "collapsed": true
   },
   "outputs": [],
   "source": [
    "def dominos_match(remaining_items, played_items):\n",
    "    "
   ]
  }
 ],
 "metadata": {
  "kernelspec": {
   "display_name": "Python 3",
   "language": "python",
   "name": "python3"
  },
  "language_info": {
   "codemirror_mode": {
    "name": "ipython",
    "version": 3
   },
   "file_extension": ".py",
   "mimetype": "text/x-python",
   "name": "python",
   "nbconvert_exporter": "python",
   "pygments_lexer": "ipython3",
   "version": "3.6.3"
  }
 },
 "nbformat": 4,
 "nbformat_minor": 2
}
