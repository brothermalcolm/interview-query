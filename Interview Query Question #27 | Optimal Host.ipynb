{
 "cells": [
  {
   "cell_type": "markdown",
   "metadata": {},
   "source": [
    "## Interview Query Question #27 | Optimal Host\n",
    "Good morning. Here's your algorithms question for today.. Try out solving the problem first before clicking on the link to the solution.\n",
    "\n",
    "This problem will be free for a week, then it'll go back to being available only in our premium course.\n",
    "\n",
    "This question was asked by: Zillow\n",
    "Let's say we have a group of N friends represented by a list of dictionaries where each value is a friend name and their location on a three dimensional scale of (x, y, z). The friends want to host a party but want the friend with the optimal location (least distance to travel as a group) to host it.\n",
    "\n",
    "Write a function to return the friend that should host the party.\n",
    "\n",
    "Example:"
   ]
  },
  {
   "cell_type": "code",
   "execution_count": null,
   "metadata": {
    "collapsed": true,
    "scrolled": true
   },
   "outputs": [],
   "source": [
    "friends = [\n",
    "{'name': 'Bob', location: (5,2,10)},\n",
    "{'name': 'David', location: (2,3,5)},\n",
    "{'name': 'Mary', location: (19,3,4)},\n",
    "{'name': 'Skyler', location: (3,5,1)},\n",
    "]\n",
    "\n",
    "optimal_host(friends) -> 'David'"
   ]
  },
  {
   "cell_type": "code",
   "execution_count": 3,
   "metadata": {},
   "outputs": [
    {
     "data": {
      "text/plain": [
       "[{'location': (5, 2, 10), 'name': 'Bob'},\n",
       " {'location': (2, 3, 5), 'name': 'David'},\n",
       " {'location': (19, 3, 4), 'name': 'Mary'},\n",
       " {'location': (3, 5, 1), 'name': 'Skyler'}]"
      ]
     },
     "execution_count": 3,
     "metadata": {},
     "output_type": "execute_result"
    }
   ],
   "source": [
    "import numpy as np\n",
    "\n",
    "friends = [\n",
    "{'name': 'Bob', 'location': (5,2,10)},\n",
    "{'name': 'David', 'location': (2,3,5)},\n",
    "{'name': 'Mary', 'location': (19,3,4)},\n",
    "{'name': 'Skyler', 'location': (3,5,1)},\n",
    "]\n",
    "\n",
    "friends"
   ]
  },
  {
   "cell_type": "code",
   "execution_count": 4,
   "metadata": {},
   "outputs": [
    {
     "data": {
      "text/plain": [
       "5.9160797830996161"
      ]
     },
     "execution_count": 4,
     "metadata": {},
     "output_type": "execute_result"
    }
   ],
   "source": [
    "# idea: minimize cost function\n",
    "\n",
    "def dist(loc_a, loc_b):\n",
    "    x_a, y_a, z_a = loc_a\n",
    "    x_b, y_b, z_b = loc_b\n",
    "    dist = np.sqrt((x_b - x_a)**2 + (y_b - y_a)**2 + (z_b - z_a)**2 )\n",
    "    return dist\n",
    "\n",
    "dist(friends[0]['location'], friends[1]['location'])"
   ]
  },
  {
   "cell_type": "code",
   "execution_count": 6,
   "metadata": {},
   "outputs": [
    {
     "name": "stdout",
     "output_type": "stream",
     "text": [
      "Bob 30.8757770204\n",
      "David 27.528041844\n",
      "Mary 48.6949433553\n",
      "Skyler 30.6791548766\n"
     ]
    },
    {
     "data": {
      "text/plain": [
       "('David', 27.528041843981857)"
      ]
     },
     "execution_count": 6,
     "metadata": {},
     "output_type": "execute_result"
    }
   ],
   "source": [
    "def optimal_host(friends):\n",
    "    visitors = friends\n",
    "    min_dist = None\n",
    "\n",
    "    for friend in friends:\n",
    "        sum_dist = 0\n",
    "        loc_a = friend['location']\n",
    "        for visitor in visitors: \n",
    "            loc_b = visitor['location']\n",
    "            sum_dist += dist(loc_a, loc_b)\n",
    "        if min_dist is None or sum_dist < min_dist:\n",
    "            min_dist = sum_dist\n",
    "            min_friend = friend['name']\n",
    "        print(friend['name'], sum_dist)\n",
    "\n",
    "    return min_friend, min_dist\n",
    "\n",
    "optimal_host(friends)"
   ]
  }
 ],
 "metadata": {
  "kernelspec": {
   "display_name": "Python 3",
   "language": "python",
   "name": "python3"
  },
  "language_info": {
   "codemirror_mode": {
    "name": "ipython",
    "version": 3
   },
   "file_extension": ".py",
   "mimetype": "text/x-python",
   "name": "python",
   "nbconvert_exporter": "python",
   "pygments_lexer": "ipython3",
   "version": "3.6.3"
  }
 },
 "nbformat": 4,
 "nbformat_minor": 2
}
