{
 "cells": [
  {
   "cell_type": "markdown",
   "metadata": {},
   "source": [
    "## Interview Query Question #21 | First Touch Attribution"
   ]
  },
  {
   "cell_type": "markdown",
   "metadata": {},
   "source": [
    "Good morning. Here's your sql question for today.. Try out solving the problem first before clicking on the link to the solution.\n",
    "\n",
    "This problem will be free for a week, then it'll go back to being available only in our premium course.\n",
    "\n",
    "This question was asked by: Google  \n",
    "`attribution` table  \n",
    "\n",
    "column\ttype  \n",
    "id\tint  \n",
    "created_at\tdatetime  \n",
    "session_id\tint  \n",
    "channel\tvarchar  \n",
    "conversion\tboolean  \n",
    "\n",
    "`user_sessions` table    \n",
    "\n",
    "column\tuser_id  \n",
    "session_id\tint  \n",
    "user_id\tint  \n",
    " \n",
    "\n",
    "The schema above is for a retail online shopping company consisting of two tables, attribution and user_sessions. \n",
    "\n",
    "The attribution table logs a session visit for each row.\n",
    "If conversion is true, then the user converted to buying on that session.\n",
    "The channel column represents which advertising platform the user was attributed to for that specific session.\n",
    "Lastly the `user_sessions` table maps many to one session visits back to one user.\n",
    "First touch attribution is defined as the channel to which the converted user was associated with when they first discovered the website.\n",
    "\n",
    "Calculate the first touch attribution for each user_id that converted.\n",
    "\n",
    " \n",
    "\n",
    "Example output:  \n",
    "\n",
    "user_id\tchannel  \n",
    "123\tfacebook  \n",
    "145\tgoogle  \n",
    "153\tfacebook  \n",
    "172\torganic  \n",
    "173\temail  \n",
    "Need a hint?\n",
    "Imagine the full path of a user converting to a purchase after multiple visits.\n",
    "\n",
    "1st Session: User sees Facebook ad -> Clicks to order -> Leaves\n",
    "2nd Session: User sees Google ad -> Leaves\n",
    "3rd Session: User types in website -> Clicks to order -> Purchases\n",
    "How do we figure out the beginning path of the Facebook ad and connect it to the end purchasing user?"
   ]
  },
  {
   "cell_type": "code",
   "execution_count": null,
   "metadata": {
    "collapsed": true
   },
   "outputs": [],
   "source": [
    "# idea: rownumber window function over user partition\n",
    "\n",
    "with win_sessions as (\n",
    "select user_id, session_id, created_at, channel, conversion, rownumber() over partition by user_id order by created_at asc as row\n",
    "from attribution a join user_sessions s on a.session_id = s.session_id\n",
    ")\n",
    ",\n",
    "converted_users as (\n",
    "select user_id\n",
    "from attribution a join user_sessions s on a.session_id = s.session_id\n",
    "where conversion = True\n",
    ")\n",
    "\n",
    "select user_id, channel\n",
    "from win_sessions\n",
    "where user_id in (select user_id from converted_users) and row = 1\n"
   ]
  }
 ],
 "metadata": {
  "kernelspec": {
   "display_name": "Python 3",
   "language": "python",
   "name": "python3"
  },
  "language_info": {
   "codemirror_mode": {
    "name": "ipython",
    "version": 3
   },
   "file_extension": ".py",
   "mimetype": "text/x-python",
   "name": "python",
   "nbconvert_exporter": "python",
   "pygments_lexer": "ipython3",
   "version": "3.6.3"
  }
 },
 "nbformat": 4,
 "nbformat_minor": 2
}
