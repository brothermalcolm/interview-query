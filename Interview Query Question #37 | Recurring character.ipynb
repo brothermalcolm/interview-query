{
 "cells": [
  {
   "cell_type": "markdown",
   "metadata": {},
   "source": [
    "## Interview Query Question #37 | Recurring character"
   ]
  },
  {
   "cell_type": "markdown",
   "metadata": {},
   "source": [
    "Good morning. Here's your python question for today.\n",
    "\n",
    "This question was asked by: HealthTap  \n",
    "Given a string, return the first recurring character in it, or None if there is no recurring chracter.\n",
    "\n",
    "Example:"
   ]
  },
  {
   "cell_type": "code",
   "execution_count": 15,
   "metadata": {},
   "outputs": [],
   "source": [
    "input = \"interviewquery\"\n",
    "output = \"i\"\n",
    "\n",
    "input = \"interv\"\n",
    "output = None"
   ]
  },
  {
   "cell_type": "code",
   "execution_count": 16,
   "metadata": {},
   "outputs": [],
   "source": [
    "# idea: list of characters, use hashmap i.e. dictionary as histogram\n",
    "\n",
    "characters = input\n",
    "hashmap = {}\n",
    "output = None\n",
    "for character in characters:\n",
    "    hashmap[character] = hashmap.get(character, 0) + 1\n",
    "    if hashmap[character] > 1:\n",
    "        output = character\n",
    "        break\n",
    "    \n",
    "output"
   ]
  }
 ],
 "metadata": {
  "kernelspec": {
   "display_name": "Python 3",
   "language": "python",
   "name": "python3"
  },
  "language_info": {
   "codemirror_mode": {
    "name": "ipython",
    "version": 3
   },
   "file_extension": ".py",
   "mimetype": "text/x-python",
   "name": "python",
   "nbconvert_exporter": "python",
   "pygments_lexer": "ipython3",
   "version": "3.6.3"
  }
 },
 "nbformat": 4,
 "nbformat_minor": 2
}
